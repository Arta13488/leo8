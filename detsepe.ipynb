{
 "cells": [
  {
   "cell_type": "code",
   "execution_count": 3,
   "metadata": {},
   "outputs": [],
   "source": [
    "from telegram.ext import Updater, CommandHandler, MessageHandler, Filters\n",
    "import telegram\n",
    "\n",
    "\n",
    "TOKEN='665764629:AAFPlJiaKArIQFvdlMmbv_lLo1woJN3RS2Q'\n",
    "\n",
    "phystech_party_group_id = '-1001391858116'\n",
    "\n",
    "REQUEST_KWARGS={\n",
    "    'proxy_url': 'socks5h://yeahrmek@52.178.155.48:31415',\n",
    "    # Optional, if you need authentication:\n",
    "    'urllib3_proxy_kwargs': {\n",
    "        'username': 'yeahrmek',\n",
    "        'password': '1qaz@WSX',\n",
    "        # 'verify': False\n",
    "    }\n",
    "}\n",
    "\n",
    "import logging\n",
    "logging.basicConfig(format='%(asctime)s - %(name)s - %(levelname)s - %(message)s',\n",
    "                     level=logging.INFO)"
   ]
  },
  {
   "cell_type": "code",
   "execution_count": 1,
   "metadata": {},
   "outputs": [
    {
     "name": "stderr",
     "output_type": "stream",
     "text": [
      "2018-09-21 14:09:04,781 - telegram.ext.updater - WARNING - Connection pool of Request object is smaller than optimal value (8)\n"
     ]
    }
   ],
   "source": [
    "pp = telegram.utils.request.Request(**REQUEST_KWARGS)\n",
    "bot = telegram.Bot(token=TOKEN, request=pp)\n",
    "\n",
    "updater = Updater(bot=bot)\n",
    "dispatcher = updater.dispatcher"
   ]
  },
  {
   "cell_type": "code",
   "execution_count": 4,
   "metadata": {},
   "outputs": [
    {
     "data": {
      "text/plain": [
       "<telegram.message.Message at 0x11115d080>"
      ]
     },
     "execution_count": 4,
     "metadata": {},
     "output_type": "execute_result"
    }
   ],
   "source": [
    "bot.send_message(chat_id=phystech_party_group_id, text='ачочо')"
   ]
  },
  {
   "cell_type": "code",
   "execution_count": 3,
   "metadata": {},
   "outputs": [],
   "source": [
    "# processing of commands\n",
    "chat_ids = []\n",
    "\n",
    "def start_command(bot, update):\n",
    "    bot.send_message(chat_id=update.message.chat_id, text='Дратути, я дцп')\n",
    "    file_id = 'CAADAgAD-AADsJjjAzEWF6AJrFcFAg'\n",
    "    bot.send_sticker(chat_id=update.message.chat_id, sticker=file_id)\n",
    "    \n",
    "def text_message(bot, update):\n",
    "    response = 'а чочо, ' + update.message.text\n",
    "    with open('log.txt', 'a') as f:\n",
    "        f.write(str(update.message.chat_id) + '\\n')\n",
    "        f.write(str(update) + '\\n')\n",
    "    bot.send_message(chat_id=update.message.chat_id, text=response)\n",
    "\n",
    "    \n",
    "def sticker_message(bot, update):\n",
    "    file_id = 'CAADAgAD-AADsJjjAzEWF6AJrFcFAg'\n",
    "    bot.send_sticker(chat_id=update.message.chat_id, sticker=file_id)\n",
    "\n",
    "    \n",
    "    \n",
    "def echo(bot, update):\n",
    "    bot.send_message(chat_id=update.message.chat_id, text=str(update))"
   ]
  },
  {
   "cell_type": "code",
   "execution_count": null,
   "metadata": {},
   "outputs": [
    {
     "name": "stderr",
     "output_type": "stream",
     "text": [
      "2018-09-21 12:39:04,836 - telegram.ext.updater - ERROR - Error while getting Updates: Conflict: terminated by other getUpdates request; make sure that only one bot instance is running (409)\n",
      "2018-09-21 12:39:04,838 - telegram.ext.dispatcher - ERROR - No error handlers are registered, logging exception.\n",
      "Traceback (most recent call last):\n",
      "  File \"/Users/yermek.kapushev/miniconda3/lib/python3.6/site-packages/telegram/ext/updater.py\", line 319, in _network_loop_retry\n",
      "    if not action_cb():\n",
      "  File \"/Users/yermek.kapushev/miniconda3/lib/python3.6/site-packages/telegram/ext/updater.py\", line 280, in polling_action_cb\n",
      "    allowed_updates=allowed_updates)\n",
      "  File \"/Users/yermek.kapushev/miniconda3/lib/python3.6/site-packages/telegram/bot.py\", line 65, in decorator\n",
      "    result = func(self, *args, **kwargs)\n",
      "  File \"/Users/yermek.kapushev/miniconda3/lib/python3.6/site-packages/telegram/bot.py\", line 1975, in get_updates\n",
      "    result = self._request.post(url, data, timeout=float(read_latency) + float(timeout))\n",
      "  File \"/Users/yermek.kapushev/miniconda3/lib/python3.6/site-packages/telegram/utils/request.py\", line 309, in post\n",
      "    headers={'Content-Type': 'application/json'})\n",
      "  File \"/Users/yermek.kapushev/miniconda3/lib/python3.6/site-packages/telegram/utils/request.py\", line 233, in _request_wrapper\n",
      "    raise NetworkError('{0} ({1})'.format(message, resp.status))\n",
      "telegram.error.NetworkError: Conflict: terminated by other getUpdates request; make sure that only one bot instance is running (409)\n",
      "2018-09-21 12:39:10,251 - telegram.ext.updater - ERROR - Error while getting Updates: Conflict: terminated by other getUpdates request; make sure that only one bot instance is running (409)\n",
      "2018-09-21 12:39:10,254 - telegram.ext.dispatcher - ERROR - No error handlers are registered, logging exception.\n",
      "Traceback (most recent call last):\n",
      "  File \"/Users/yermek.kapushev/miniconda3/lib/python3.6/site-packages/telegram/ext/updater.py\", line 319, in _network_loop_retry\n",
      "    if not action_cb():\n",
      "  File \"/Users/yermek.kapushev/miniconda3/lib/python3.6/site-packages/telegram/ext/updater.py\", line 280, in polling_action_cb\n",
      "    allowed_updates=allowed_updates)\n",
      "  File \"/Users/yermek.kapushev/miniconda3/lib/python3.6/site-packages/telegram/bot.py\", line 65, in decorator\n",
      "    result = func(self, *args, **kwargs)\n",
      "  File \"/Users/yermek.kapushev/miniconda3/lib/python3.6/site-packages/telegram/bot.py\", line 1975, in get_updates\n",
      "    result = self._request.post(url, data, timeout=float(read_latency) + float(timeout))\n",
      "  File \"/Users/yermek.kapushev/miniconda3/lib/python3.6/site-packages/telegram/utils/request.py\", line 309, in post\n",
      "    headers={'Content-Type': 'application/json'})\n",
      "  File \"/Users/yermek.kapushev/miniconda3/lib/python3.6/site-packages/telegram/utils/request.py\", line 233, in _request_wrapper\n",
      "    raise NetworkError('{0} ({1})'.format(message, resp.status))\n",
      "telegram.error.NetworkError: Conflict: terminated by other getUpdates request; make sure that only one bot instance is running (409)\n",
      "2018-09-21 12:41:16,532 - telegram.ext.updater - ERROR - Error while getting Updates: Conflict: terminated by other getUpdates request; make sure that only one bot instance is running (409)\n",
      "2018-09-21 12:41:16,535 - telegram.ext.dispatcher - ERROR - No error handlers are registered, logging exception.\n",
      "Traceback (most recent call last):\n",
      "  File \"/Users/yermek.kapushev/miniconda3/lib/python3.6/site-packages/telegram/ext/updater.py\", line 319, in _network_loop_retry\n",
      "    if not action_cb():\n",
      "  File \"/Users/yermek.kapushev/miniconda3/lib/python3.6/site-packages/telegram/ext/updater.py\", line 280, in polling_action_cb\n",
      "    allowed_updates=allowed_updates)\n",
      "  File \"/Users/yermek.kapushev/miniconda3/lib/python3.6/site-packages/telegram/bot.py\", line 65, in decorator\n",
      "    result = func(self, *args, **kwargs)\n",
      "  File \"/Users/yermek.kapushev/miniconda3/lib/python3.6/site-packages/telegram/bot.py\", line 1975, in get_updates\n",
      "    result = self._request.post(url, data, timeout=float(read_latency) + float(timeout))\n",
      "  File \"/Users/yermek.kapushev/miniconda3/lib/python3.6/site-packages/telegram/utils/request.py\", line 309, in post\n",
      "    headers={'Content-Type': 'application/json'})\n",
      "  File \"/Users/yermek.kapushev/miniconda3/lib/python3.6/site-packages/telegram/utils/request.py\", line 233, in _request_wrapper\n",
      "    raise NetworkError('{0} ({1})'.format(message, resp.status))\n",
      "telegram.error.NetworkError: Conflict: terminated by other getUpdates request; make sure that only one bot instance is running (409)\n"
     ]
    }
   ],
   "source": [
    "# Handlers\n",
    "start_command_handler = CommandHandler('start', start_command)\n",
    "text_message_handler = MessageHandler(Filters.text, text_message)\n",
    "sticker_message_handler = MessageHandler(Filters.sticker, sticker_message)\n",
    "# text_message_handler = MessageHandler(Filters.text, echo)\n",
    "\n",
    "# add handlers to the dispatcher\n",
    "dispatcher.add_handler(start_command_handler)\n",
    "dispatcher.add_handler(text_message_handler)\n",
    "dispatcher.add_handler(sticker_message_handler)\n",
    "\n",
    "# start searcing for updates\n",
    "updater.start_polling(clean=True)\n",
    "\n",
    "# stop bot if Ctrl-C is pressed\n",
    "updater.idle()"
   ]
  },
  {
   "cell_type": "code",
   "execution_count": 6,
   "metadata": {},
   "outputs": [
    {
     "name": "stdout",
     "output_type": "stream",
     "text": [
      "b'{\\n  \"origin\": \"52.178.155.48\"\\n}\\n'\n"
     ]
    }
   ],
   "source": [
    "from urllib3.contrib.socks import SOCKSProxyManager\n",
    "\n",
    "\n",
    "proxy = SOCKSProxyManager('socks5://52.178.155.48:31415', username='yeahrmek', password='1qaz@WSX')\n",
    "res = proxy.request('GET', 'http://httpbin.org/ip')\n",
    "print(res.data)"
   ]
  },
  {
   "cell_type": "code",
   "execution_count": null,
   "metadata": {},
   "outputs": [],
   "source": []
  }
 ],
 "metadata": {
  "kernelspec": {
   "display_name": "Python 3",
   "language": "python",
   "name": "python3"
  },
  "language_info": {
   "codemirror_mode": {
    "name": "ipython",
    "version": 3
   },
   "file_extension": ".py",
   "mimetype": "text/x-python",
   "name": "python",
   "nbconvert_exporter": "python",
   "pygments_lexer": "ipython3",
   "version": "3.6.5"
  }
 },
 "nbformat": 4,
 "nbformat_minor": 2
}
