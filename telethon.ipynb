{
 "cells": [
  {
   "cell_type": "code",
   "execution_count": 1,
   "metadata": {},
   "outputs": [],
   "source": [
    "#chat_id = YOUR_CHAT_ID\n",
    "API_ID = \n",
    "API_HASH = \n",
    "\n",
    "import utils\n",
    "import socks"
   ]
  },
  {
   "cell_type": "code",
   "execution_count": 1,
   "metadata": {},
   "outputs": [
    {
     "ename": "SyntaxError",
     "evalue": "invalid syntax (<ipython-input-1-a4d559e70267>, line 6)",
     "output_type": "error",
     "traceback": [
      "\u001b[0;36m  File \u001b[0;32m\"<ipython-input-1-a4d559e70267>\"\u001b[0;36m, line \u001b[0;32m6\u001b[0m\n\u001b[0;31m    <username>,  # username\u001b[0m\n\u001b[0m    ^\u001b[0m\n\u001b[0;31mSyntaxError\u001b[0m\u001b[0;31m:\u001b[0m invalid syntax\n"
     ]
    }
   ],
   "source": [
    "# Change the following line to \"PROXY_ARGS = None\" if you don't use proxy\n",
    "\n",
    "PROXY_ARGS = (\n",
    "    socks.SOCKS5,\n",
    "    '52.178.155.48', # address of your proxy\n",
    "    31415,  # port of your proxy\n",
    "    True,\n",
    "    <username>,  # username\n",
    "    <password>,  # password\n",
    ")\n",
    "\n",
    "client = utils.start_client(API_ID, API_HASH, PROXY_ARGS)"
   ]
  },
  {
   "cell_type": "code",
   "execution_count": 4,
   "metadata": {},
   "outputs": [
    {
     "name": "stderr",
     "output_type": "stream",
     "text": [
      "# messages retrieved: 7226 [01:12, 99.87/s]\n"
     ]
    }
   ],
   "source": [
    "chat = utils.get_chat(client, 'Физтех-пати')\n",
    "history = utils.get_chat_messages(client, chat)"
   ]
  },
  {
   "cell_type": "code",
   "execution_count": 5,
   "metadata": {},
   "outputs": [
    {
     "name": "stdout",
     "output_type": "stream",
     "text": [
      "@Mayorovea: 2178\n",
      "@yeahrmek: 860\n",
      "@junkie_style: 813\n",
      "Pasha: 809\n",
      "Дмитрий Новиков: 587\n",
      "@nikitasmagin: 586\n",
      "@SublimeBot: 552\n",
      "@Yakovets: 235\n",
      "@pnovichkov: 153\n",
      "Павел Поглазов: 151\n",
      "Pavel: 120\n",
      "Игорь Олегович Алферов: 87\n",
      "Георгий Семенов: 33\n",
      "@gafrustam: 29\n",
      "@PollBot: 22\n",
      "@detsepe_bot: 5\n",
      "@fuckedGirlBot: 4\n",
      "@yetanotherstatsbot: 2\n"
     ]
    }
   ],
   "source": [
    "stats = []\n",
    "for user in history:\n",
    "    stats.append((user, utils.count_messages(history, user)))\n",
    "    \n",
    "stats = sorted(stats, key=lambda x: x[1], reverse=True)\n",
    "for user, count in stats:\n",
    "    print('{}: {}'.format(user, count))"
   ]
  },
  {
   "cell_type": "markdown",
   "metadata": {},
   "source": [
    "# Calculate messages after pidor bot was added"
   ]
  },
  {
   "cell_type": "code",
   "execution_count": 7,
   "metadata": {},
   "outputs": [
    {
     "name": "stdout",
     "output_type": "stream",
     "text": [
      "@Mayorovea: 956\n",
      "@SublimeBot: 423\n",
      "@junkie_style: 401\n",
      "Pasha: 348\n",
      "@yeahrmek: 305\n",
      "@nikitasmagin: 303\n",
      "Дмитрий Новиков: 197\n",
      "@Yakovets: 122\n",
      "@pnovichkov: 107\n",
      "Pavel: 93\n",
      "Павел Поглазов: 80\n",
      "Игорь Олегович Алферов: 51\n",
      "Георгий Семенов: 24\n",
      "@PollBot: 20\n",
      "@gafrustam: 7\n",
      "@detsepe_bot: 5\n",
      "@yetanotherstatsbot: 2\n",
      "@fuckedGirlBot: 0\n"
     ]
    }
   ],
   "source": [
    "utils.process_dates(history)\n",
    "\n",
    "pidor_date = history['@PollBot']['dates'][-1]\n",
    "messages_after_pidor_bot = utils.count_messages_after_date(history, pidor_date)\n",
    "for user in sorted(messages_after_pidor_bot, key=lambda x: messages_after_pidor_bot[x], reverse=True):\n",
    "    print('{}: {}'.format(user, messages_after_pidor_bot[user]))"
   ]
  },
  {
   "cell_type": "code",
   "execution_count": null,
   "metadata": {},
   "outputs": [],
   "source": []
  }
 ],
 "metadata": {
  "kernelspec": {
   "display_name": "Python 3",
   "language": "python",
   "name": "python3"
  },
  "language_info": {
   "codemirror_mode": {
    "name": "ipython",
    "version": 3
   },
   "file_extension": ".py",
   "mimetype": "text/x-python",
   "name": "python",
   "nbconvert_exporter": "python",
   "pygments_lexer": "ipython3",
   "version": "3.6.5"
  }
 },
 "nbformat": 4,
 "nbformat_minor": 2
}
