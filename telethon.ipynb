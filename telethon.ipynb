{
 "cells": [
  {
   "cell_type": "code",
   "execution_count": 43,
   "metadata": {},
   "outputs": [],
   "source": [
    "#chat_id = YOUR_CHAT_ID\n",
    "API_ID = 329388\n",
    "API_HASH = '5f7f7f23f9407bd80f33380c61e4c1a0'\n",
    "\n",
    "from telethon import TelegramClient, sync\n",
    "import socks\n",
    "from telethon.tl.types import PeerUser, PeerChat, PeerChannel\n",
    "from tqdm import tqdm\n",
    "import pandas as pd\n",
    "\n",
    "\n",
    "PROXY_ARGS = (\n",
    "    socks.SOCKS5,\n",
    "    '52.178.155.48',\n",
    "    31415,\n",
    "    True,\n",
    "    'yeahrmek',\n",
    "    '1qaz@WSX',\n",
    ")\n",
    "\n",
    "def start_client(api_id, api_hash, proxy_args):\n",
    "    client = TelegramClient('session_name', api_id, api_hash,\n",
    "                            proxy=proxy_args)\n",
    "    client.start()\n",
    "    return client\n",
    "\n",
    "def get_chat(client, chat_name):\n",
    "    chat = None\n",
    "    for d in client.get_dialogs():\n",
    "        if d.name == chat_name:\n",
    "            chat = d\n",
    "            break\n",
    "    if chat is None:\n",
    "        print(\"Can't find chat named '{}'\".format(chat_name))\n",
    "    return chat\n",
    "\n",
    "\n",
    "\n",
    "def get_chat_messages(client, chat):\n",
    "    if chat.is_channel:\n",
    "        entity = PeerChannel(chat.id)\n",
    "    elif chat.is_group:\n",
    "        entity = PeerChat(chat.id)\n",
    "    else:\n",
    "        raise ValueError('Unknown type of group chat!')\n",
    "\n",
    "    chat_entity = client.get_input_entity(entity)\n",
    "    history = dict()\n",
    "\n",
    "\n",
    "    for message in tqdm(client.iter_messages(chat_entity), desc='# messages retrieved', unit=''):\n",
    "        sender = message.sender\n",
    "        username = '@{}'.format(sender.username)\n",
    "\n",
    "        if message.sender.username is None:\n",
    "            username = sender.first_name\n",
    "            if sender.last_name is not None:\n",
    "                username = '{} {}'.format(username, sender.last_name)\n",
    "\n",
    "        if not username in history:\n",
    "            history[username] = {'raw_messages': []}\n",
    "            \n",
    "        history[username]['raw_messages'].append(message)\n",
    "        \n",
    "    return history\n",
    "\n",
    "def count_messages(history, username):\n",
    "    info = history[username]['raw_messages']\n",
    "    n_messages = len(info)\n",
    "    return n_messages\n",
    "\n",
    "def process_dates(history):\n",
    "    for user in history:\n",
    "        history[user]['dates'] = pd.to_datetime([m.date for m in history[user]['raw_messages']])\n",
    "\n",
    "def count_messages_after_date(history, date):\n",
    "    counter = dict.fromkeys(history)\n",
    "    for user in counter:\n",
    "        dates = history[user]['dates']\n",
    "        counter[user] = len(dates[dates > date])\n",
    "    return counter"
   ]
  },
  {
   "cell_type": "code",
   "execution_count": 2,
   "metadata": {},
   "outputs": [],
   "source": [
    "client = start_client(API_ID, API_HASH, PROXY_ARGS)"
   ]
  },
  {
   "cell_type": "code",
   "execution_count": 31,
   "metadata": {},
   "outputs": [
    {
     "name": "stderr",
     "output_type": "stream",
     "text": [
      "# messages retrieved: 7095 [01:10, 100.83/s]\n"
     ]
    }
   ],
   "source": [
    "chat = get_chat(client, 'Физтех-пати')\n",
    "history = get_chat_messages(client, chat)"
   ]
  },
  {
   "cell_type": "code",
   "execution_count": 44,
   "metadata": {},
   "outputs": [
    {
     "name": "stdout",
     "output_type": "stream",
     "text": [
      "@Mayorovea: 2157\n",
      "@yeahrmek: 860\n",
      "Pasha: 798\n",
      "@junkie_style: 787\n",
      "@nikitasmagin: 574\n",
      "Дмитрий Новиков: 570\n",
      "@SublimeBot: 541\n",
      "@Yakovets: 234\n",
      "@pnovichkov: 152\n",
      "Павел Поглазов: 147\n",
      "Pavel: 111\n",
      "Игорь Олегович Алферов: 74\n",
      "Георгий Семенов: 33\n",
      "@gafrustam: 24\n",
      "@PollBot: 22\n",
      "@detsepe_bot: 5\n",
      "@fuckedGirlBot: 4\n",
      "@yetanotherstatsbot: 2\n"
     ]
    }
   ],
   "source": [
    "stats = []\n",
    "for user in history:\n",
    "    stats.append((user, count_messages(history, user)))\n",
    "    \n",
    "stats = sorted(stats, key=lambda x: x[1], reverse=True)\n",
    "for user, count in stats:\n",
    "    print('{}: {}'.format(user, count))"
   ]
  },
  {
   "cell_type": "markdown",
   "metadata": {},
   "source": [
    "# Calculate messages after pidor bot was added"
   ]
  },
  {
   "cell_type": "code",
   "execution_count": 46,
   "metadata": {},
   "outputs": [
    {
     "name": "stdout",
     "output_type": "stream",
     "text": [
      "@Mayorovea: 935\n",
      "@SublimeBot: 412\n",
      "@junkie_style: 375\n",
      "Pasha: 337\n",
      "@yeahrmek: 305\n",
      "@nikitasmagin: 291\n",
      "Дмитрий Новиков: 180\n",
      "@Yakovets: 121\n",
      "@pnovichkov: 106\n",
      "Pavel: 84\n",
      "Павел Поглазов: 76\n",
      "Игорь Олегович Алферов: 38\n",
      "Георгий Семенов: 24\n",
      "@PollBot: 20\n",
      "@detsepe_bot: 5\n",
      "@gafrustam: 2\n",
      "@yetanotherstatsbot: 2\n",
      "@fuckedGirlBot: 0\n"
     ]
    }
   ],
   "source": [
    "pidor_date = history['@PollBot']['dates'][-1]\n",
    "messages_after_pidor_bot = count_messages_after_date(history, pidor_date)\n",
    "for user in sorted(messages_after_pidor_bot, key=lambda x: messages_after_pidor_bot[x], reverse=True):\n",
    "    print('{}: {}'.format(user, messages_after_pidor_bot[user]))"
   ]
  },
  {
   "cell_type": "code",
   "execution_count": 57,
   "metadata": {},
   "outputs": [
    {
     "ename": "TypeError",
     "evalue": "__init__() got an unexpected keyword argument 'bot_token'",
     "output_type": "error",
     "traceback": [
      "\u001b[0;31m---------------------------------------------------------------------------\u001b[0m",
      "\u001b[0;31mTypeError\u001b[0m                                 Traceback (most recent call last)",
      "\u001b[0;32m<ipython-input-57-6439ee113e3b>\u001b[0m in \u001b[0;36m<module>\u001b[0;34m()\u001b[0m\n\u001b[0;32m----> 1\u001b[0;31m \u001b[0mbot\u001b[0m \u001b[0;34m=\u001b[0m \u001b[0mTelegramClient\u001b[0m\u001b[0;34m(\u001b[0m\u001b[0mbot_token\u001b[0m\u001b[0;34m=\u001b[0m\u001b[0;34m'665764629:AAFPlJiaKArIQFvdlMmbv_lLo1woJN3RS2Q'\u001b[0m\u001b[0;34m)\u001b[0m\u001b[0;34m\u001b[0m\u001b[0m\n\u001b[0m",
      "\u001b[0;31mTypeError\u001b[0m: __init__() got an unexpected keyword argument 'bot_token'"
     ]
    }
   ],
   "source": [
    "bot = client.sign_in(bot_token='665764629:AAFPlJiaKArIQFvdlMmbv_lLo1woJN3RS2Q')"
   ]
  },
  {
   "cell_type": "code",
   "execution_count": 56,
   "metadata": {},
   "outputs": [
    {
     "data": {
      "text/plain": [
       "'Yermek'"
      ]
     },
     "execution_count": 56,
     "metadata": {},
     "output_type": "execute_result"
    }
   ],
   "source": [
    "bot.first_name"
   ]
  },
  {
   "cell_type": "code",
   "execution_count": 52,
   "metadata": {},
   "outputs": [
    {
     "name": "stdout",
     "output_type": "stream",
     "text": [
      "User(\n",
      "\tid=75343074,\n",
      "\tis_self=True,\n",
      "\tcontact=True,\n",
      "\tmutual_contact=True,\n",
      "\tdeleted=False,\n",
      "\tbot=False,\n",
      "\tbot_chat_history=False,\n",
      "\tbot_nochats=False,\n",
      "\tverified=False,\n",
      "\trestricted=False,\n",
      "\tmin=False,\n",
      "\tbot_inline_geo=False,\n",
      "\taccess_hash=584916513175492651,\n",
      "\tfirst_name='Yermek',\n",
      "\tlast_name=None,\n",
      "\tusername='yeahrmek',\n",
      "\tphone='79166354525',\n",
      "\tphoto=UserProfilePhoto(\n",
      "\t\tphoto_id=323596039266347028,\n",
      "\t\tphoto_small=FileLocation(\n",
      "\t\t\tdc_id=2,\n",
      "\t\t\tvolume_id=239311079,\n",
      "\t\t\tlocal_id=175777,\n",
      "\t\t\tsecret=2990242154546046445\n",
      "\t\t),\n",
      "\t\tphoto_big=FileLocation(\n",
      "\t\t\tdc_id=2,\n",
      "\t\t\tvolume_id=239311079,\n",
      "\t\t\tlocal_id=175779,\n",
      "\t\t\tsecret=-666989345791161627\n",
      "\t\t)\n",
      "\t),\n",
      "\tstatus=UserStatusOffline(\n",
      "\t\twas_online=datetime.datetime(2018, 9, 21, 14, 25, 2, tzinfo=datetime.timezone.utc)\n",
      "\t),\n",
      "\tbot_info_version=None,\n",
      "\trestriction_reason=None,\n",
      "\tbot_inline_placeholder=None,\n",
      "\tlang_code=None\n",
      ")\n"
     ]
    }
   ],
   "source": [
    "print(client.get_me().stringify())"
   ]
  },
  {
   "cell_type": "code",
   "execution_count": null,
   "metadata": {},
   "outputs": [],
   "source": []
  }
 ],
 "metadata": {
  "kernelspec": {
   "display_name": "Python 3",
   "language": "python",
   "name": "python3"
  },
  "language_info": {
   "codemirror_mode": {
    "name": "ipython",
    "version": 3
   },
   "file_extension": ".py",
   "mimetype": "text/x-python",
   "name": "python",
   "nbconvert_exporter": "python",
   "pygments_lexer": "ipython3",
   "version": "3.6.5"
  }
 },
 "nbformat": 4,
 "nbformat_minor": 2
}
