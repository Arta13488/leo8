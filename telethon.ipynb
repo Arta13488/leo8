{
 "cells": [
  {
   "cell_type": "code",
   "execution_count": 1,
   "metadata": {},
   "outputs": [],
   "source": [
    "#chat_id = YOUR_CHAT_ID\n",
    "api_id = 329388\n",
    "api_hash = '5f7f7f23f9407bd80f33380c61e4c1a0'"
   ]
  },
  {
   "cell_type": "code",
   "execution_count": 3,
   "metadata": {},
   "outputs": [
    {
     "data": {
      "text/plain": [
       "<telethon.client.telegramclient.TelegramClient at 0x10fd193c8>"
      ]
     },
     "execution_count": 3,
     "metadata": {},
     "output_type": "execute_result"
    }
   ],
   "source": [
    "from telethon import TelegramClient, sync\n",
    "\n",
    "import socks\n",
    "\n",
    "host = '52.178.155.48'  # a valid host\n",
    "port = 31415  # a valid port\n",
    "username = 'yeahrmek'\n",
    "password = '1qaz@WSX'\n",
    "\n",
    "client = TelegramClient('session_name', api_id, api_hash,\n",
    "                        proxy=(socks.SOCKS5, host, port, True, username, password))\n",
    "client.start()"
   ]
  },
  {
   "cell_type": "code",
   "execution_count": 4,
   "metadata": {},
   "outputs": [
    {
     "name": "stdout",
     "output_type": "stream",
     "text": [
      "User(\n",
      "\tid=75343074,\n",
      "\tis_self=True,\n",
      "\tcontact=True,\n",
      "\tmutual_contact=True,\n",
      "\tdeleted=False,\n",
      "\tbot=False,\n",
      "\tbot_chat_history=False,\n",
      "\tbot_nochats=False,\n",
      "\tverified=False,\n",
      "\trestricted=False,\n",
      "\tmin=False,\n",
      "\tbot_inline_geo=False,\n",
      "\taccess_hash=584916513175492651,\n",
      "\tfirst_name='Yermek',\n",
      "\tlast_name=None,\n",
      "\tusername='yeahrmek',\n",
      "\tphone='79166354525',\n",
      "\tphoto=UserProfilePhoto(\n",
      "\t\tphoto_id=323596039266347028,\n",
      "\t\tphoto_small=FileLocation(\n",
      "\t\t\tdc_id=2,\n",
      "\t\t\tvolume_id=239311079,\n",
      "\t\t\tlocal_id=175777,\n",
      "\t\t\tsecret=2990242154546046445\n",
      "\t\t),\n",
      "\t\tphoto_big=FileLocation(\n",
      "\t\t\tdc_id=2,\n",
      "\t\t\tvolume_id=239311079,\n",
      "\t\t\tlocal_id=175779,\n",
      "\t\t\tsecret=-666989345791161627\n",
      "\t\t)\n",
      "\t),\n",
      "\tstatus=UserStatusOffline(\n",
      "\t\twas_online=datetime.datetime(2018, 9, 21, 11, 3, 21, tzinfo=datetime.timezone.utc)\n",
      "\t),\n",
      "\tbot_info_version=None,\n",
      "\trestriction_reason=None,\n",
      "\tbot_inline_placeholder=None,\n",
      "\tlang_code=None\n",
      ")\n"
     ]
    }
   ],
   "source": [
    "print(client.get_me().stringify())"
   ]
  },
  {
   "cell_type": "code",
   "execution_count": 25,
   "metadata": {},
   "outputs": [],
   "source": [
    "phystech_party = None\n",
    "for d in dialogs:\n",
    "    if d.name == 'Физтех-пати':\n",
    "        phystech_party = d\n",
    "        break"
   ]
  },
  {
   "cell_type": "markdown",
   "metadata": {},
   "source": [
    "Get chat history"
   ]
  },
  {
   "cell_type": "code",
   "execution_count": 47,
   "metadata": {},
   "outputs": [],
   "source": [
    "from telethon.tl.types import PeerUser, PeerChat, PeerChannel\n",
    "\n",
    "channel = PeerChannel(phystech_party.id)\n",
    "phystech_party_chat = client.get_input_entity(channel)"
   ]
  },
  {
   "cell_type": "code",
   "execution_count": 64,
   "metadata": {},
   "outputs": [
    {
     "name": "stderr",
     "output_type": "stream",
     "text": [
      "7036it [01:10, 100.12it/s]\n"
     ]
    }
   ],
   "source": [
    "users = dict()\n",
    "\n",
    "from tqdm import tqdm\n",
    "\n",
    "for message in tqdm(client.iter_messages(phystech_party_chat)):\n",
    "    sender = message.sender\n",
    "    username = message.sender.username\n",
    "    if not username:\n",
    "        username = message.sender.first_name\n",
    "        \n",
    "        \n",
    "    if not username in users:\n",
    "        users[username] = dict(\n",
    "            dates=[],\n",
    "            messages=[]\n",
    "        )\n",
    "    users[username]['dates'].append(message.date)\n",
    "    users[username]['messages'].append(message.text)"
   ]
  },
  {
   "cell_type": "code",
   "execution_count": 66,
   "metadata": {},
   "outputs": [],
   "source": [
    "def count_messages(users, username):\n",
    "    info = users[username]\n",
    "    n_messages = len(info['messages'])\n",
    "    return n_messages"
   ]
  },
  {
   "cell_type": "code",
   "execution_count": 68,
   "metadata": {},
   "outputs": [],
   "source": [
    "for username in users:\n",
    "    users[username]['n_messages'] = count_messages(users, username)"
   ]
  },
  {
   "cell_type": "code",
   "execution_count": 74,
   "metadata": {},
   "outputs": [],
   "source": [
    "def key(x):\n",
    "    print(x)\n",
    "sorted_users = sorted(users, key=lambda x: -users[x]['n_messages'])"
   ]
  },
  {
   "cell_type": "code",
   "execution_count": 79,
   "metadata": {},
   "outputs": [
    {
     "name": "stdout",
     "output_type": "stream",
     "text": [
      "Mayorovea: 2137\n",
      "yeahrmek: 847\n",
      "Pasha: 798\n",
      "junkie_style: 771\n",
      "Дмитрий: 570\n",
      "nikitasmagin: 568\n",
      "SublimeBot: 539\n",
      "Yakovets: 234\n",
      "pnovichkov: 151\n",
      "Павел: 147\n",
      "Pavel: 111\n",
      "Игорь Олегович: 73\n",
      "Георгий: 33\n",
      "gafrustam: 24\n",
      "PollBot: 22\n",
      "detsepe_bot: 5\n",
      "fuckedGirlBot: 4\n",
      "yetanotherstatsbot: 2\n"
     ]
    }
   ],
   "source": [
    "for u, n in zip(sorted_users, [users[u]['n_messages'] for u in sorted_users]):\n",
    "    print('{}: {}'.format(u, n))"
   ]
  },
  {
   "cell_type": "code",
   "execution_count": 92,
   "metadata": {},
   "outputs": [
    {
     "data": {
      "text/plain": [
       "Timestamp('2018-04-02 15:13:44+0000', tz='UTC')"
      ]
     },
     "execution_count": 92,
     "metadata": {},
     "output_type": "execute_result"
    }
   ],
   "source": [
    "import pandas as pd\n",
    "\n",
    "pd.to_datetime(users['yeahrmek']['dates'][-1])"
   ]
  },
  {
   "cell_type": "code",
   "execution_count": 94,
   "metadata": {},
   "outputs": [],
   "source": [
    "bot_date = pd.to_datetime(users['PollBot']['dates'][-1])"
   ]
  },
  {
   "cell_type": "code",
   "execution_count": 96,
   "metadata": {},
   "outputs": [],
   "source": [
    "from copy import deepcopy\n",
    "\n",
    "subset_messages = deepcopy(users)\n",
    "dates = dict.fromkeys(subset_messages.keys())\n",
    "for user in subset_messages:\n",
    "    dates[user] = pd.to_datetime(subset_messages[user]['dates'])"
   ]
  },
  {
   "cell_type": "code",
   "execution_count": 101,
   "metadata": {},
   "outputs": [],
   "source": [
    "for user in dates:\n",
    "    df = dates[user]\n",
    "    dates[user] = dates[user][dates[user] > bot_date]"
   ]
  },
  {
   "cell_type": "code",
   "execution_count": 105,
   "metadata": {},
   "outputs": [],
   "source": [
    "sorted_users = sorted(dates, key=lambda x: -len(dates[x]))"
   ]
  },
  {
   "cell_type": "code",
   "execution_count": 106,
   "metadata": {},
   "outputs": [
    {
     "name": "stdout",
     "output_type": "stream",
     "text": [
      "Mayorovea: 915\n",
      "SublimeBot: 410\n",
      "junkie_style: 359\n",
      "Pasha: 337\n",
      "yeahrmek: 292\n",
      "nikitasmagin: 285\n",
      "Дмитрий: 180\n",
      "Yakovets: 121\n",
      "pnovichkov: 105\n",
      "Pavel: 84\n",
      "Павел: 76\n",
      "Игорь Олегович: 37\n",
      "Георгий: 24\n",
      "PollBot: 20\n",
      "detsepe_bot: 5\n",
      "gafrustam: 2\n",
      "yetanotherstatsbot: 2\n",
      "fuckedGirlBot: 0\n"
     ]
    }
   ],
   "source": [
    "for user in sorted_users:\n",
    "    print('{}: {}'.format(user, len(dates[user])))"
   ]
  },
  {
   "cell_type": "code",
   "execution_count": null,
   "metadata": {},
   "outputs": [],
   "source": []
  }
 ],
 "metadata": {
  "kernelspec": {
   "display_name": "Python 3",
   "language": "python",
   "name": "python3"
  },
  "language_info": {
   "codemirror_mode": {
    "name": "ipython",
    "version": 3
   },
   "file_extension": ".py",
   "mimetype": "text/x-python",
   "name": "python",
   "nbconvert_exporter": "python",
   "pygments_lexer": "ipython3",
   "version": "3.6.5"
  }
 },
 "nbformat": 4,
 "nbformat_minor": 2
}
